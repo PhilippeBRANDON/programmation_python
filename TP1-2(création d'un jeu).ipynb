{
  "nbformat": 4,
  "nbformat_minor": 0,
  "metadata": {
    "colab": {
      "provenance": []
    },
    "kernelspec": {
      "name": "python3",
      "display_name": "Python 3"
    },
    "language_info": {
      "name": "python"
    }
  },
  "cells": [
    {
      "cell_type": "code",
      "execution_count": 73,
      "metadata": {
        "colab": {
          "base_uri": "https://localhost:8080/"
        },
        "id": "HVnRlIeqXY6o",
        "outputId": "d3bc8fcf-b4e4-4993-9108-bb94ac9c0e84"
      },
      "outputs": [
        {
          "output_type": "stream",
          "name": "stdout",
          "text": [
            "[0.0, 0.027677032662585643, 0.05535406532517129, 0.08303109798775694, 0.11070813065034257, 0.13838516331292822, 0.1660621959755139, 0.19373922863809953, 0.22141626130068515, 0.2490932939632708]\n",
            "[0.  0.1 0.2 0.3 0.4 0.5 0.6 0.7 0.8 0.9]\n",
            "[0.0, 0.027677032662585643, 0.05535406532517129, 0.08303109798775694, 0.11070813065034257, 0.13838516331292822, 0.1660621959755139, 0.19373922863809953, 0.22141626130068515, 0.2490932939632708]\n"
          ]
        }
      ],
      "source": [
        "from numpy.random.mtrand import uniform\n",
        "# chargement de la définition de la fonction arrange depuis numpy\n",
        "from numpy import arange\n",
        "from random import uniform\n",
        "from numpy.random import normal\n",
        "def generate_data(n):\n",
        "  x = arange(start=0,stop=1,step=1/n) # appel de la fonction arrange  \n",
        "  y = [] # liste vide\n",
        "  pente = uniform(0, 0.75) # tirage aléatoire du coefficicient pente \n",
        "  ecart_type = uniform(0.001,0.2) # tirage de l'écart-type du bruit ajoutée dans la boucle\n",
        "  for i in range(len(x)):\n",
        "    e_i = normal(0,ecart_type) # tirage d'une petite vakeur pour perturber la position en y \n",
        "    y_i = pente *x[i]\n",
        "    y.append(y_i)\n",
        "  print(y)\n",
        "  return x,y # données de sortie : les valeurs stockés dans x et y\n",
        "\n",
        "a,b = generate_data(10)\n",
        "print(a)\n",
        "print(b)"
      ]
    },
    {
      "cell_type": "code",
      "source": [
        "pente = uniform(0, 0.75)\n",
        "e = normal(0.0)\n",
        "y = (pente * e)\n",
        "\n",
        "print(y)"
      ],
      "metadata": {
        "colab": {
          "base_uri": "https://localhost:8080/"
        },
        "id": "I_ndh51ohxpO",
        "outputId": "30682bb3-8e56-4f85-9bf6-1a89e822a978"
      },
      "execution_count": 61,
      "outputs": [
        {
          "output_type": "stream",
          "name": "stdout",
          "text": [
            "0.08831191946546281\n"
          ]
        }
      ]
    },
    {
      "cell_type": "code",
      "source": [
        "y = []\n",
        "pente = uniform(0, 0.75)\n",
        "for i in range(len(x)):\n",
        "  y_i = pente *x[i]\n",
        "  y.append(y_i)\n",
        "  print(y)"
      ],
      "metadata": {
        "colab": {
          "base_uri": "https://localhost:8080/"
        },
        "id": "0FTBJRsokgyj",
        "outputId": "faf3440b-ff1e-441f-9f51-c43c1e5f1791"
      },
      "execution_count": 71,
      "outputs": [
        {
          "output_type": "stream",
          "name": "stdout",
          "text": [
            "[0.0]\n"
          ]
        }
      ]
    }
  ]
}