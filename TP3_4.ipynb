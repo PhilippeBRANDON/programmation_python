{
  "nbformat": 4,
  "nbformat_minor": 0,
  "metadata": {
    "colab": {
      "provenance": [],
      "authorship_tag": "ABX9TyPXdzRnsE1KllfzUxOymPWr",
      "include_colab_link": true
    },
    "kernelspec": {
      "name": "python3",
      "display_name": "Python 3"
    },
    "language_info": {
      "name": "python"
    }
  },
  "cells": [
    {
      "cell_type": "markdown",
      "metadata": {
        "id": "view-in-github",
        "colab_type": "text"
      },
      "source": [
        "<a href=\"https://colab.research.google.com/github/PhilippeBRANDON/programmation_python/blob/main/TP3_4.ipynb\" target=\"_parent\"><img src=\"https://colab.research.google.com/assets/colab-badge.svg\" alt=\"Open In Colab\"/></a>"
      ]
    },
    {
      "cell_type": "code",
      "source": [
        "from numpy.lib.function_base import append\n",
        "import numpy as np\n",
        "\n",
        "\n",
        "def to_binary(decimal) :\n",
        "  if decimal >= 0 and decimal <= 255:\n",
        "    binaire = []\n",
        "    for i in range(7,-1,-1) :\n",
        "      if decimal>=2**i:\n",
        "        decimal-= 2**i\n",
        "        binaire.append(1)\n",
        "      else :\n",
        "        binaire.append(0)\n",
        "    binaire = np.flip(binaire)\n",
        "    return binaire\n",
        "  else:\n",
        "    return \"L'entier doit être entre 0 et 255.\"\n",
        "to_binary(130)\n",
        "\n",
        "\n",
        "\n",
        "def to_decimal(binary):\n",
        "  decimal = 0 \n",
        "  for i in range(8):\n",
        "    decimal = decimal + binary[i] * 2 ** i\n",
        "  return decimal\n",
        "to_binary(to_decimal([1,0,0,0,0,0,0,0]))\n",
        "to_decimal(to_binary(130))"
      ],
      "metadata": {
        "colab": {
          "base_uri": "https://localhost:8080/"
        },
        "id": "bPIUoJeWXhZ-",
        "outputId": "024e72c6-4896-4fda-cc6a-64c7b7bb6992"
      },
      "execution_count": 83,
      "outputs": [
        {
          "output_type": "execute_result",
          "data": {
            "text/plain": [
              "130"
            ]
          },
          "metadata": {},
          "execution_count": 83
        }
      ]
    }
  ]
}