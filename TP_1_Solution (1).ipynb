{
  "nbformat": 4,
  "nbformat_minor": 0,
  "metadata": {
    "colab": {
      "provenance": []
    },
    "kernelspec": {
      "name": "python3",
      "display_name": "Python 3"
    },
    "language_info": {
      "name": "python"
    }
  },
  "cells": [
    {
      "cell_type": "markdown",
      "source": [
        "# Devine la corrélation !\n",
        "\n",
        "## Exercice 1\n",
        "\n",
        "Pour générer une nuage de points bivarié, on procède ainsi :\n",
        "\n",
        "1. Pour les coordonnées en $x$ on prend $n$ réels entre 0 et 1, régulièrement espacé (donc un espacement de $\\frac{1}{n}$ entre chaque valeur.\n",
        "2. On tire uniformément un réel entre 0 et 0,75, qu'on utilise ensuite comme coefficient de pente.\n",
        "3. On titre uniformément un réel entre 0,001 et 0,2, qu'on utilise ensuite comme écart-type.\n",
        "4. On calcule la coordonnée en $y$ pour chaque $x$ selon la formule :\n",
        "$$\n",
        "y_i = pente \\times x_i + \\epsilon_i,\n",
        "$$\n",
        "avec $\\epsilon_i$ un réel tiré selon la loi normale centrée avec pour écart-type la valeur tirée à l'étape 3."
      ],
      "metadata": {
        "id": "4Sk2GNT70ryo"
      }
    },
    {
      "cell_type": "code",
      "execution_count": 10,
      "metadata": {
        "colab": {
          "base_uri": "https://localhost:8080/"
        },
        "id": "NgPH4mBPUaiq",
        "outputId": "e99accb6-0288-48a0-de9e-0cd8f1c436d0"
      },
      "outputs": [
        {
          "output_type": "stream",
          "name": "stdout",
          "text": [
            "[0.  0.1 0.2 0.3 0.4 0.5 0.6 0.7 0.8 0.9]\n",
            "[0.0313309519169195, 0.022281265510555225, -0.08194535621431194, 0.1630727907357122, 0.10066406075225122, 0.20012909784037192, 0.18943541061141553, 0.07998779098049065, 0.03515981185351204, 0.18111329674386886]\n"
          ]
        }
      ],
      "source": [
        "from numpy import arange # chargement de la définition de la fonction arange depuis NumPy\n",
        "from random import uniform\n",
        "from numpy.random import normal\n",
        "\n",
        "# définition de la fonction nommée generate_data, qui a une donnée d'entrée : n\n",
        "def generate_data(n):\n",
        "    x = arange(start=0, stop=1, step=1/n) # appel de la fonction arange : retourne une liste de valeurs espacés de 1/n, entre 0 et 1\n",
        "    y = [] # liste vide\n",
        "    pente = uniform(0, 0.75) # tirage aléatoire du coefficient pente\n",
        "    ecart_type = uniform(0.001, 0.2) # tirage de l'écart-type du bruit ajoutée dans la boucle\n",
        "    for i in range(n):\n",
        "        e_i = normal(0, ecart_type) # tirage d'une petite valeur pour perturber la position en y\n",
        "        y_i = pente * x[i] + e_i\n",
        "        y.append(y_i)\n",
        "    return x, y # données de sortie : les valeurs stockées dans la liste x et la liste y\n",
        "\n",
        "a, b = generate_data(10)\n",
        "print(a)\n",
        "print(b)"
      ]
    },
    {
      "cell_type": "markdown",
      "source": [
        "## Exercice 2"
      ],
      "metadata": {
        "id": "eVQVLewF2Mmo"
      }
    },
    {
      "cell_type": "code",
      "source": [
        "from matplotlib.pyplot import scatter, show\n",
        "from scipy.stats import pearsonr\n",
        "\n",
        "a, b = generate_data(50)\n",
        "scatter(x=a, y=b)\n",
        "show()\n",
        "coeff, p= pearsonr(a,b)\n",
        "x = round(coeff, 1)\n",
        "coeff_joueur = float(input(\"valeur coeff : \"))\n",
        "print(x)\n",
        "if coeff_joueur == x :\n",
        "  print(\"gg\")\n",
        "else :\n",
        "  print(\"noob\")\n",
        "\n",
        "\n",
        "\n",
        "\n",
        "def play_turn():\n",
        "  nb_points = int(uniform(20.30))\n",
        "  X,Y = generate_data(nb_points)\n",
        "  true_r, p = personr(X,Y)\n",
        "  scatter(X,Y)\n",
        "  show\n",
        "  guessed_r = float(input('devinez la valeur de r : '))\n",
        "  return true_r, guessed_r"
      ],
      "metadata": {
        "colab": {
          "base_uri": "https://localhost:8080/",
          "height": 317
        },
        "id": "N2XARplDrgvG",
        "outputId": "7b829a3b-a632-40e2-becc-b7fcf84d08fd"
      },
      "execution_count": 49,
      "outputs": [
        {
          "output_type": "display_data",
          "data": {
            "text/plain": [
              "<Figure size 432x288 with 1 Axes>"
            ],
            "image/png": "[encoded data removed]"
          },
          "metadata": {
            "needs_background": "light"
          }
        },
        {
          "output_type": "stream",
          "name": "stdout",
          "text": [
            "valeur coeff : 0.54\n",
            "0.6\n",
            "noob\n"
          ]
        }
      ]
    },
    {
      "cell_type": "markdown",
      "source": [
        "exercice 3"
      ],
      "metadata": {
        "id": "TjOon5H6UzQQ"
      }
    },
    {
      "cell_type": "code",
      "source": [],
      "metadata": {
        "colab": {
          "base_uri": "https://localhost:8080/"
        },
        "id": "Tn1hq9jKU3Ex",
        "outputId": "73d9fd8f-8c1d-4d95-ba9c-0aa15a42d505"
      },
      "execution_count": 18,
      "outputs": [
        {
          "output_type": "stream",
          "name": "stdout",
          "text": [
            "<function generate_data at 0x7f82afee8ee0>\n"
          ]
        }
      ]
    }
  ]
}